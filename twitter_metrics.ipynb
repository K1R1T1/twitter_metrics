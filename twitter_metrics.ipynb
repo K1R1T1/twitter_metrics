{
 "cells": [
  {
   "cell_type": "markdown",
   "metadata": {},
   "source": [
    "# Gather Twitter metrics using Python and BeautifulSoup. \n",
    "\n",
    "This script gathers the metrics (likes,comments,retweets,timestamp) of twitter URL's.\n",
    "This is useful for workin on mulitple URL's by using a simple loop "
   ]
  },
  {
   "cell_type": "markdown",
   "metadata": {},
   "source": [
    "#### Import necessary libraries.  "
   ]
  },
  {
   "cell_type": "code",
   "execution_count": 1,
   "metadata": {
    "collapsed": true
   },
   "outputs": [],
   "source": [
    "import requests\n",
    "import re \n",
    "from bs4 import BeautifulSoup\n",
    "import dateutil.parser as dparser"
   ]
  },
  {
   "cell_type": "markdown",
   "metadata": {
    "collapsed": true
   },
   "source": [
    "#### Defining the function"
   ]
  },
  {
   "cell_type": "code",
   "execution_count": 73,
   "metadata": {},
   "outputs": [],
   "source": [
    "def twdata(url):\n",
    "    page = requests.get(url)\n",
    "    soup = BeautifulSoup(page.text, 'html.parser')\n",
    "    twid = str([int(s) for s in url.split('/') if s.isdigit()][0])\n",
    "    rtid = 'profile-tweet-action-retweet-count-aria-' + twid\n",
    "    rpid = 'profile-tweet-action-reply-count-aria-' + twid\n",
    "    fvid = 'profile-tweet-action-favorite-count-aria-' + twid\n",
    "    rt = str(soup.find_all(id=rtid))\n",
    "    rp = str(soup.find_all(id=rpid))\n",
    "    fv = str(soup.find_all(id=fvid))\n",
    "\n",
    "    if 'retweets' in rt:\n",
    "        rts = rt[135:-17] \n",
    "    else:\n",
    "        rts = rt[135:-16]\n",
    "\n",
    "    if 'replies' in rp:\n",
    "        rps  = rp[133:-16]\n",
    "    else:\n",
    "        rps  = rp[133:-14]\n",
    "\n",
    "    if 'likes' in fv:\n",
    "        favs = fv[136:-14]\n",
    "    else:\n",
    "        favs = fv[136:-13]\n",
    "\n",
    "    b = str(soup.find_all(class_=\"tweet-timestamp js-permalink js-nav js-tooltip\"))\n",
    "    exp = \"{}\\\" title(.*?)><span class=\\\"_timestamp js-short-timestamp\".format(twid)\n",
    "    d1 = re.findall(r'{}'.format(exp),b)\n",
    "    try:\n",
    "        timend = ((str(d1[0]).strip('\\'')).strip('=')).strip('\\\"')\n",
    "        time,date = timend.split(\"-\")\n",
    "    except IndexError:\n",
    "        time='Not Found'\n",
    "    metrics = (\"URL = {}, Retweets = {}, Replies = {}, Likes = {}, Time = {}, Date = {} \".format(url,rts,rps,favs,time,date))\n",
    "    return metrics"
   ]
  },
  {
   "cell_type": "markdown",
   "metadata": {},
   "source": [
    "#### Example "
   ]
  },
  {
   "cell_type": "code",
   "execution_count": 74,
   "metadata": {},
   "outputs": [
    {
     "name": "stdout",
     "output_type": "stream",
     "text": [
      "URL = https://twitter.com/BarackObama/status/952914779458424832, Retweets = 374,827, Replies = 26,093, Likes = 1,451,223, Time = 6:46 AM , Date =  15 Jan 2018 \n"
     ]
    }
   ],
   "source": [
    "print(twdata(\"https://twitter.com/BarackObama/status/952914779458424832\"))"
   ]
  },
  {
   "cell_type": "markdown",
   "metadata": {},
   "source": [
    "#### ~END~"
   ]
  }
 ],
 "metadata": {
  "kernelspec": {
   "display_name": "Python 3",
   "language": "python",
   "name": "python3"
  },
  "language_info": {
   "codemirror_mode": {
    "name": "ipython",
    "version": 3
   },
   "file_extension": ".py",
   "mimetype": "text/x-python",
   "name": "python",
   "nbconvert_exporter": "python",
   "pygments_lexer": "ipython3",
   "version": "3.6.3"
  }
 },
 "nbformat": 4,
 "nbformat_minor": 2
}
