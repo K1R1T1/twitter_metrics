{
 "cells": [
  {
   "cell_type": "markdown",
   "metadata": {},
   "source": [
    "# Tweet Metrics Parser\n",
    "Author(s): Kiriti Yelamanchali\n",
    "\n",
    "Goal:\n",
    "This simple python code returns number of retweets, replies, favourites and Unix Timestamp of the tweet. \n",
    "\n",
    "Status:\n",
    "This package can be installed by cloning the repo. As of version 0.0.1, the package works with Python 3.7\n",
    "\n",
    "Usage:\n",
    "This package is intended to be used as a Python module inside your other Tweet-related code. An example Python program (after installing the package) would be:\n",
    "\tpython tweet_metrics https://twitter.com/BarackObama/status/952914779458424832\n",
    "\n",
    "This is a Jupyter Notebook with the core code. "
   ]
  },
  {
   "cell_type": "code",
   "execution_count": 66,
   "metadata": {},
   "outputs": [],
   "source": [
    "# Import the necessary libraries\n",
    "import requests\n",
    "import re\n",
    "import sys\n",
    "from bs4 import BeautifulSoup\n",
    "import logging\n",
    "from logging.config import dictConfig"
   ]
  },
  {
   "cell_type": "code",
   "execution_count": 67,
   "metadata": {},
   "outputs": [],
   "source": [
    "# Logging Information\n",
    "dictConfig({\n",
    "    'version': 1,\n",
    "    'formatters': {'default': {\n",
    "        'format': '[%(asctime)s] %(levelname)s in %(module)s: %(message)s',\n",
    "    }},\n",
    "    'handlers': {'wsgi': {\n",
    "        'class': 'logging.StreamHandler',\n",
    "        'formatter': 'default'\n",
    "    }},\n",
    "    'root': {\n",
    "        'level': 'INFO',\n",
    "        'handlers': ['wsgi']\n",
    "    }\n",
    "})"
   ]
  },
  {
   "cell_type": "code",
   "execution_count": 68,
   "metadata": {},
   "outputs": [],
   "source": [
    "# Main Function.\n",
    "def parse_metrics(url):\n",
    "    \"\"\"\n",
    "    :param url: Twitter URL example : https://twitter.com/BarackObama/status/952914779458424832\n",
    "    :return: JSON with Metrics.\n",
    "    \"\"\"\n",
    "    logging.info('Input URL = {}'.format(url))\n",
    "\n",
    "    if url.startswith(\"https://twitter.com/\"):\n",
    "        logging.info('URL is a valid twitter URL')\n",
    "\n",
    "        page = requests.get(url)\n",
    "        soup = BeautifulSoup(page.text, 'html.parser')\n",
    "        tweet_id = str([int(s) for s in url.split('/') if s.isdigit()][0])\n",
    "\n",
    "        re_tweets_id = 'profile-tweet-action-retweet-count-aria-' + tweet_id\n",
    "        replies_id = 'profile-tweet-action-reply-count-aria-' + tweet_id\n",
    "        favourites_id = 'profile-tweet-action-favorite-count-aria-' + tweet_id\n",
    "\n",
    "        rt = str(soup.find_all(id=re_tweets_id))\n",
    "        rp = str(soup.find_all(id=replies_id))\n",
    "        fv = str(soup.find_all(id=favourites_id))\n",
    "        time = str(soup.find_all(class_=\"tweet-timestamp js-permalink js-nav js-tooltip\"))\n",
    "\n",
    "        try:\n",
    "            rts = int(re.sub('[^0-9]', '', re.findall(re.compile(r\"(?<=>)(.*)(?=</span>)\"), rt)[0]))\n",
    "            rps = int(re.sub('[^0-9]', '', re.findall(re.compile(r\"(?<=>)(.*)(?=</span>)\"), rp)[0]))\n",
    "            fav = int(re.sub('[^0-9]', '', re.findall(re.compile(r\"(?<=>)(.*)(?=</span>)\"), fv)[0]))\n",
    "            tsp = int(re.sub('[^0-9]', '', re.findall(re.compile(r\"(?<=data-time-ms=\\\")\\d{13}(?=\\\">)\"), time)[-1]))\n",
    "            logging.info('Parsing Successful')\n",
    "            return {'url': url, 'retweets': rts, 'replies': rps, 'favourites': fav, 'timestamp': tsp}\n",
    "        except Exception as e:\n",
    "            logging.info('Encountered error {} during parsing'.format(e))\n",
    "            return {'url': url, 'retweets': 0, 'replies': 0, 'favourites': 0, 'timestamp': 0}\n",
    "    else:\n",
    "        logging.info('URL is not a valid twitter URL')\n",
    "        return {'url': url, 'retweets': 0, 'replies': 0, 'favourites': 0, 'timestamp': 0}"
   ]
  },
  {
   "cell_type": "code",
   "execution_count": 69,
   "metadata": {},
   "outputs": [
    {
     "name": "stderr",
     "output_type": "stream",
     "text": [
      "[2020-05-18 14:10:47,616] INFO in <ipython-input-68-aecd398e62dd>: Input URL = https://twitter.com/BarackObama/status/952914779458424832\n",
      "[2020-05-18 14:10:47,618] INFO in <ipython-input-68-aecd398e62dd>: URL is a valid twitter URL\n",
      "[2020-05-18 14:10:49,005] INFO in <ipython-input-68-aecd398e62dd>: Parsing Successful\n"
     ]
    },
    {
     "data": {
      "text/plain": [
       "{'url': 'https://twitter.com/BarackObama/status/952914779458424832',\n",
       " 'retweets': 340884,\n",
       " 'replies': 27375,\n",
       " 'favourites': 1375655,\n",
       " 'timestamp': 1516042339000}"
      ]
     },
     "execution_count": 69,
     "metadata": {},
     "output_type": "execute_result"
    }
   ],
   "source": [
    "# Example\n",
    "parse_metrics(\"https://twitter.com/BarackObama/status/952914779458424832\")"
   ]
  },
  {
   "cell_type": "markdown",
   "metadata": {},
   "source": [
    "#### ~END~"
   ]
  }
 ],
 "metadata": {
  "kernelspec": {
   "display_name": "Python 3",
   "language": "python",
   "name": "python3"
  },
  "language_info": {
   "codemirror_mode": {
    "name": "ipython",
    "version": 3
   },
   "file_extension": ".py",
   "mimetype": "text/x-python",
   "name": "python",
   "nbconvert_exporter": "python",
   "pygments_lexer": "ipython3",
   "version": "3.7.7"
  }
 },
 "nbformat": 4,
 "nbformat_minor": 2
}
